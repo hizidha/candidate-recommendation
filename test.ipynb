{
 "cells": [
  {
   "cell_type": "code",
   "execution_count": 1,
   "metadata": {},
   "outputs": [
    {
     "name": "stdout",
     "output_type": "stream",
     "text": [
      "id, name, nik, age, gender, marital, jobPosition, currentCity, levelEdu, majoring, gpa, institution, exper, last_position, expect_salary, pt_personality, pt_intelligent, applyOn, status, bufferStock\n"
     ]
    }
   ],
   "source": [
    "import re\n",
    "\n",
    "# Define the string\n",
    "input_string = \"\"\"\n",
    "id\tname\tnik\tage\tgender\tmarital\tjobPosition\tcurrentCity\tlevelEdu\tmajoring\tgpa\tinstitution\texper\tlast_position\texpect_salary\tpt_personality\tpt_intelligent\tapplyOn\tstatus\tbufferStock\t\n",
    "\"\"\"\n",
    "\n",
    "# Define the regex pattern to match words\n",
    "pattern = r'\\b\\w+\\b'\n",
    "\n",
    "# Find all words using the regex pattern\n",
    "words = re.findall(pattern, input_string)\n",
    "\n",
    "# Print the list of words\n",
    "print(\", \".join(words))\n"
   ]
  }
 ],
 "metadata": {
  "kernelspec": {
   "display_name": "myenv",
   "language": "python",
   "name": "python3"
  },
  "language_info": {
   "codemirror_mode": {
    "name": "ipython",
    "version": 3
   },
   "file_extension": ".py",
   "mimetype": "text/x-python",
   "name": "python",
   "nbconvert_exporter": "python",
   "pygments_lexer": "ipython3",
   "version": "3.9.0"
  }
 },
 "nbformat": 4,
 "nbformat_minor": 2
}
